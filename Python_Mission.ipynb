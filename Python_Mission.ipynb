{
  "nbformat": 4,
  "nbformat_minor": 0,
  "metadata": {
    "colab": {
      "provenance": [],
      "authorship_tag": "ABX9TyNHowHQrUIfJrIIw92W1Udd",
      "include_colab_link": true
    },
    "kernelspec": {
      "name": "python3",
      "display_name": "Python 3"
    },
    "language_info": {
      "name": "python"
    }
  },
  "cells": [
    {
      "cell_type": "markdown",
      "metadata": {
        "id": "view-in-github",
        "colab_type": "text"
      },
      "source": [
        "<a href=\"https://colab.research.google.com/github/rahmawtnisa/Project-Python-DQLab/blob/main/Python_Mission.ipynb\" target=\"_parent\"><img src=\"https://colab.research.google.com/assets/colab-badge.svg\" alt=\"Open In Colab\"/></a>"
      ]
    },
    {
      "cell_type": "markdown",
      "source": [
        "#Misi 6-12 Batch 16: Fundamental Python Menggunakan Google Colab"
      ],
      "metadata": {
        "id": "lv9geycR_UVp"
      }
    },
    {
      "cell_type": "markdown",
      "source": [
        "##Misi 7: Variabel dan tipe data, operator matematika, serta string functions and methods"
      ],
      "metadata": {
        "id": "QZ6VrYIE8i0S"
      }
    },
    {
      "cell_type": "markdown",
      "source": [
        "Misi:\n",
        "\n",
        "Untuk membantuku memahami lebih lanjut mengenai penggunaan tipe data dan cara menyimpan data ke dalam variabel, Aksara memintaku untuk:\n",
        "\n",
        "1. Memisahkan nama depan dan nama belakang dari customer yang ada pada kolom Customer_Name yang dipisahkan dengan spasi.\n",
        "\n",
        "2. Setelah itu, nama depan dari customer disimpan ke dalam variabel bersama First_Name dan nama belakang disimpan ke dalam variabel bernama Last_Name.\n",
        "\n",
        "Instruksi Pengerjaan:\n",
        "\n",
        "Perhatikan pada kolom Customer_Name bahwa nama depan (first_name) dan nama belakang (last_name) dipisahkan dengan spasi. Pisahkan Customer Name menjadi dua komponen yaitu First_Name dan Last_Name"
      ],
      "metadata": {
        "id": "Wrk8PtLH8bTL"
      }
    },
    {
      "cell_type": "code",
      "execution_count": 1,
      "metadata": {
        "colab": {
          "base_uri": "https://localhost:8080/"
        },
        "id": "Becw2OFV0tur",
        "outputId": "080732e3-a33c-440d-dbf5-5584a2951082"
      },
      "outputs": [
        {
          "output_type": "stream",
          "name": "stdout",
          "text": [
            "         Order_ID Customer_ID  Postal_Code       Product_ID     Sales  \\\n",
            "0  CA-2019-152156    CG-12520        42420  FUR-BO-10001798  261.9600   \n",
            "1  CA-2019-152156    CG-12520        42420  FUR-CH-10000454  731.9400   \n",
            "2  CA-2019-138688    DV-13045        90036  OFF-LA-10000240   14.6200   \n",
            "3  US-2018-108966    SO-20335        33311  FUR-TA-10000577  957.5775   \n",
            "4  US-2018-108966    SO-20335        33311  OFF-ST-10000760   22.3680   \n",
            "\n",
            "   Quantity  Discount    Profit         Category Sub-Category  ...  \\\n",
            "0         2      0.00   41.9136        Furniture    Bookcases  ...   \n",
            "1         3      0.00  219.5820        Furniture       Chairs  ...   \n",
            "2         2      0.00    6.8714  Office Supplies       Labels  ...   \n",
            "3         5      0.45 -383.0310        Furniture       Tables  ...   \n",
            "4         2      0.20    2.5164  Office Supplies      Storage  ...   \n",
            "\n",
            "    Ship_Date       Ship_Mode    Customer_Name    Segment Country/Region  \\\n",
            "0  11/11/2019    Second Class      Claire Gute   Consumer  United States   \n",
            "1  11/11/2019    Second Class      Claire Gute   Consumer  United States   \n",
            "2   6/16/2019    Second Class  Darrin Van Huff  Corporate  United States   \n",
            "3  10/18/2018  Standard Class   Sean O'Donnell   Consumer  United States   \n",
            "4  10/18/2018  Standard Class   Sean O'Donnell   Consumer  United States   \n",
            "\n",
            "              City       State Region First_Name  Last_Name  \n",
            "0        Henderson    Kentucky  South     Claire       Gute  \n",
            "1        Henderson    Kentucky  South     Claire       Gute  \n",
            "2      Los Angeles  California   West     Darrin   Van Huff  \n",
            "3  Fort Lauderdale     Florida  South       Sean  O'Donnell  \n",
            "4  Fort Lauderdale     Florida  South       Sean  O'Donnell  \n",
            "\n",
            "[5 rows x 22 columns]\n"
          ]
        }
      ],
      "source": [
        "import pandas as pd\n",
        "\n",
        "# load dataset\n",
        "dataset = 'https://storage.googleapis.com/dqlab-dataset/SuperStore.csv'\n",
        "df = pd.read_csv(dataset);\n",
        "\n",
        "# Pisahkan Customer Name menjadi dua komponen yaitu First_Name dan Last_Name\n",
        "name = df['Customer_Name'].str.split(\" \", n = 1, expand = True)\n",
        "df['First_Name'] = name[0]\n",
        "df['Last_Name'] = name[1]\n",
        "\n",
        "# tampilkan 5 baris pertama\n",
        "print(df.head())"
      ]
    },
    {
      "cell_type": "markdown",
      "source": [
        "##Misi 8: Struktur data"
      ],
      "metadata": {
        "id": "9iu1bUKX9X1n"
      }
    },
    {
      "cell_type": "markdown",
      "source": [
        "Misi:\n",
        "\n",
        "Aksara membantuku untuk memahami struktur data lebih lanjut. Ia memberikan sebuah dictionary yang berisi nama konsumen dan voucher yang dimiliki oleh konsumen tersebut. Dictionary yang diberikan padaku adalah sebagai berikut:\n",
        "\n",
        "konsumen = {\n",
        "   'nama' : 'Claire',\n",
        "   'voucher' : [10, 15, 20, 25, 30, 50]\n",
        "}\n",
        "Aksara lalu memintaku untuk menampilkan 3 voucher dengan nilai terendah dari konsumen bernama Claire tersebut dengan menggunakan slice."
      ],
      "metadata": {
        "id": "uzqXO5BA9Buw"
      }
    },
    {
      "cell_type": "code",
      "source": [
        "konsumen = {\n",
        "    'nama' : 'Claire',\n",
        "    'voucher' : [10, 15, 20, 25, 30, 50]\n",
        "}\n",
        "\n",
        "print((konsumen['voucher'])[:3])"
      ],
      "metadata": {
        "colab": {
          "base_uri": "https://localhost:8080/"
        },
        "id": "TLuku9DG9eRm",
        "outputId": "032ffeee-f222-4713-fea4-c557ac888145"
      },
      "execution_count": 2,
      "outputs": [
        {
          "output_type": "stream",
          "name": "stdout",
          "text": [
            "[10, 15, 20]\n"
          ]
        }
      ]
    },
    {
      "cell_type": "markdown",
      "source": [
        "##Misi 9: IF logic, function, dan loop"
      ],
      "metadata": {
        "id": "iHqBiqfk9t0p"
      }
    },
    {
      "cell_type": "markdown",
      "source": [
        "Misi dan Instruksi Pengerjaan:\n",
        "\n",
        "Buatlah kalkulator sederhana yang dapat mengoperasikan dua bilangan dengan operasi dasar x, /, +. Pada template codes, perhatikan bahwa sudah disediakan 3 variabel, num1 yang merepresentasikan angka pertama, num2 yang merepresentasikan angka kedua, dan operator yang merepresentasikan operator matematika."
      ],
      "metadata": {
        "id": "arFyLwkQ9qSd"
      }
    },
    {
      "cell_type": "code",
      "source": [
        "def kalkulator(num1,operator,num2):\n",
        "    if operator == \"+\":\n",
        "        result = num1 + num2\n",
        "    elif operator == \"-\":\n",
        "        result = num1 - num2\n",
        "    elif operator == \"*\":\n",
        "        result = num1 * num2\n",
        "    elif operator == \"/\":\n",
        "        if num2 != 0:\n",
        "            result = num1 / num2\n",
        "        else:\n",
        "            print(\"Error: Tidak bisa dibagi dengan nol!\")\n",
        "            return\n",
        "\n",
        "    print(\"Hasil: \", result)\n",
        "\n",
        "kalkulator(1,'+',2)\n",
        "kalkulator(3,'-',2)\n",
        "kalkulator(4,'*',2)\n",
        "kalkulator(6,'/',2)"
      ],
      "metadata": {
        "colab": {
          "base_uri": "https://localhost:8080/"
        },
        "id": "aF0K1sN29vNG",
        "outputId": "93ebfd80-1fa8-443a-f94e-d8770acf902c"
      },
      "execution_count": 3,
      "outputs": [
        {
          "output_type": "stream",
          "name": "stdout",
          "text": [
            "Hasil:  3\n",
            "Hasil:  1\n",
            "Hasil:  8\n",
            "Hasil:  3.0\n"
          ]
        }
      ]
    },
    {
      "cell_type": "markdown",
      "source": [
        "##Misi 10: Pandas dan manipulasi data"
      ],
      "metadata": {
        "id": "mgDh_wpg99zR"
      }
    },
    {
      "cell_type": "markdown",
      "source": [
        "Soal dan Instruksi Pengerjaan:\n",
        "\n",
        "Tentukan total penjualan (sales) untuk setiap kategori barang pada setiap pasangan Region dan Segment dengan menggunakan pivot table. Kita akan menempatkan category pada bagian kolom dan region-segment pada bagian baris."
      ],
      "metadata": {
        "id": "Dy59sKRP99BY"
      }
    },
    {
      "cell_type": "code",
      "source": [
        "import pandas as pd\n",
        "dataset = 'https://storage.googleapis.com/dqlab-dataset/SuperStore.csv'\n",
        "df = pd.read_csv(dataset);\n",
        "\n",
        "print(pd.pivot_table(\n",
        "    data=df,\n",
        "    index=['Region', 'Segment'],\n",
        "    columns='Category',\n",
        "    values='Sales',\n",
        "    aggfunc='sum'\n",
        "))"
      ],
      "metadata": {
        "colab": {
          "base_uri": "https://localhost:8080/"
        },
        "id": "FA0rRHP2-BI9",
        "outputId": "bb23003e-5d68-4349-c9d8-5b6626642825"
      },
      "execution_count": 4,
      "outputs": [
        {
          "output_type": "stream",
          "name": "stdout",
          "text": [
            "Category               Furniture  Office Supplies  Technology\n",
            "Region  Segment                                              \n",
            "Central Consumer      86229.2190        93111.479   72690.736\n",
            "        Corporate     52085.6018        41137.701   64772.510\n",
            "        Home Office   25482.3430        32777.235   32953.066\n",
            "East    Consumer     114211.8020       101255.136  135441.229\n",
            "        Corporate     64209.0460        66474.735   69725.566\n",
            "        Home Office   29870.3560        37786.184   59807.186\n",
            "South   Consumer      70800.2040        59504.581   65276.186\n",
            "        Corporate     29645.0315        45930.170   46310.731\n",
            "        Home Office   16853.4485        20216.562   37184.991\n",
            "West    Consumer     119808.0870       110080.940  132991.746\n",
            "        Corporate     83080.1065        77133.856   65641.312\n",
            "        Home Office   49724.5500        33638.453   53358.774\n"
          ]
        }
      ]
    },
    {
      "cell_type": "markdown",
      "source": [
        "##Misi 11: Handling Missing Data"
      ],
      "metadata": {
        "id": "I4wE0iaa-Pt5"
      }
    },
    {
      "cell_type": "markdown",
      "source": [
        "Misi:\n",
        "\n",
        "Proses handling missing data tidak dapat dilakukan sembarangan, aku perlu mempelajari teknik dan strategi yang tepat agar hasilnya akurat. Oleh karena itu, misi selanjutnya yang diberikan oleh Aksara untukku adalah untuk mengganti nilai dari missing values yang ada pada kolom Sales dengan menggunakan nilai median kolom tersebut.\n",
        "\n",
        "Instruksi Pengerjaan:\n",
        "\n",
        "Isi missing values pada kolom Sales dengan menggunakan nilai median"
      ],
      "metadata": {
        "id": "juPR-sux-O_6"
      }
    },
    {
      "cell_type": "code",
      "source": [
        "import pandas as pd\n",
        "\n",
        "dataset = 'https://storage.googleapis.com/dqlab-dataset/SuperStore_missing.csv'\n",
        "df = pd.read_csv(dataset);\n",
        "\n",
        "# Isi missing values pada kolom Sales dengan menggunakan nilai median\n",
        "median_sales = df['Sales'].median()\n",
        "df['Sales'].fillna(median_sales, inplace=True)\n",
        "\n",
        "total_na_sales = df['Sales'].isna().sum()\n",
        "\n",
        "print(total_na_sales)"
      ],
      "metadata": {
        "colab": {
          "base_uri": "https://localhost:8080/"
        },
        "id": "IG5ydYfQ-TEK",
        "outputId": "2368058e-e441-4520-c109-f3329f1b178a"
      },
      "execution_count": 5,
      "outputs": [
        {
          "output_type": "stream",
          "name": "stdout",
          "text": [
            "0\n"
          ]
        },
        {
          "output_type": "stream",
          "name": "stderr",
          "text": [
            "<ipython-input-5-471b84ee85f0>:8: FutureWarning: A value is trying to be set on a copy of a DataFrame or Series through chained assignment using an inplace method.\n",
            "The behavior will change in pandas 3.0. This inplace method will never work because the intermediate object on which we are setting values always behaves as a copy.\n",
            "\n",
            "For example, when doing 'df[col].method(value, inplace=True)', try using 'df.method({col: value}, inplace=True)' or df[col] = df[col].method(value) instead, to perform the operation inplace on the original object.\n",
            "\n",
            "\n",
            "  df['Sales'].fillna(median_sales, inplace=True)\n"
          ]
        }
      ]
    },
    {
      "cell_type": "markdown",
      "source": [
        "##Misi 12: Exploratory Data Analysis (EDA) menggunakan visualisasi data"
      ],
      "metadata": {
        "id": "HWvppYvj--jy"
      }
    },
    {
      "cell_type": "markdown",
      "source": [
        "Misi:\n",
        "\n",
        "Untuk membantuku memahami penggunaan chart-chart yang ada pada Python, Aksara memintaku untuk membuat clustered bar chart yang menampilkan total sales berdasarkan region dan category. Berdasarkan dari apa yang kudengar dari Aksara, clustered bar chart biasanya digunakan untuk menampilkan perbandingan dari data.\n",
        "\n",
        "\n",
        "Soal:\n",
        "\n",
        "Buat clustered bar chart yang menampilkan total sales berdasarkan Region dan Category"
      ],
      "metadata": {
        "id": "43xC045h-jQU"
      }
    },
    {
      "cell_type": "code",
      "source": [
        "import pandas as pd\n",
        "import seaborn as sns\n",
        "import matplotlib.pyplot as plt\n",
        "\n",
        "dataset = 'https://storage.googleapis.com/dqlab-dataset/SuperStore.csv'\n",
        "df = pd.read_csv(dataset);\n",
        "\n",
        "sales = pd.pivot_table(\n",
        "    data=df,\n",
        "    index=['Region', 'Category'],\n",
        "    values='Sales',\n",
        "    aggfunc='sum'\n",
        ").reset_index()\n",
        "\n",
        "print(sales)\n",
        "\n",
        "sns.barplot(\n",
        "    data=sales,\n",
        "    x='Region',\n",
        "    y='Sales',\n",
        "    hue='Category'\n",
        ")\n",
        "plt.show()"
      ],
      "metadata": {
        "colab": {
          "base_uri": "https://localhost:8080/",
          "height": 675
        },
        "id": "1QlCnH83_Cb3",
        "outputId": "94b5e916-8630-4827-d05f-1e1b40970de9"
      },
      "execution_count": 6,
      "outputs": [
        {
          "output_type": "stream",
          "name": "stdout",
          "text": [
            "     Region         Category        Sales\n",
            "0   Central        Furniture  163797.1638\n",
            "1   Central  Office Supplies  167026.4150\n",
            "2   Central       Technology  170416.3120\n",
            "3      East        Furniture  208291.2040\n",
            "4      East  Office Supplies  205516.0550\n",
            "5      East       Technology  264973.9810\n",
            "6     South        Furniture  117298.6840\n",
            "7     South  Office Supplies  125651.3130\n",
            "8     South       Technology  148771.9080\n",
            "9      West        Furniture  252612.7435\n",
            "10     West  Office Supplies  220853.2490\n",
            "11     West       Technology  251991.8320\n"
          ]
        },
        {
          "output_type": "display_data",
          "data": {
            "text/plain": [
              "<Figure size 640x480 with 1 Axes>"
            ],
            "image/png": "[encoded data removed]"
          },
          "metadata": {}
        }
      ]
    }
  ]
}